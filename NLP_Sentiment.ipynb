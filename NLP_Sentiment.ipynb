{
 "cells": [
  {
   "cell_type": "code",
   "execution_count": 14,
   "id": "eb66b5bf-d49c-4589-8501-575951d68c54",
   "metadata": {},
   "outputs": [],
   "source": [
    "import pandas as pd\n",
    "import numpy as np\n",
    "import seaborn as sns\n",
    "import matplotlib.pyplot as plt"
   ]
  },
  {
   "cell_type": "code",
   "execution_count": 16,
   "id": "d0663025-eca9-4557-96b7-39dbea0cd8ed",
   "metadata": {},
   "outputs": [],
   "source": [
    "# Assuming columns 2 and 3 should be strings:\n",
    "dtypes = {2: str, 3: str} \n",
    "comments = pd.read_csv(r\"C:\\Users\\ALOKITA\\Desktop\\CanWill\\CSV_comments.csv\", encoding='utf-8', dtype=dtypes, on_bad_lines='skip')"
   ]
  },
  {
   "cell_type": "code",
   "execution_count": 18,
   "id": "1ad364e2-5378-4df3-9f5a-ab8fa963faa9",
   "metadata": {},
   "outputs": [
    {
     "data": {
      "text/html": [
       "<div>\n",
       "<style scoped>\n",
       "    .dataframe tbody tr th:only-of-type {\n",
       "        vertical-align: middle;\n",
       "    }\n",
       "\n",
       "    .dataframe tbody tr th {\n",
       "        vertical-align: top;\n",
       "    }\n",
       "\n",
       "    .dataframe thead th {\n",
       "        text-align: right;\n",
       "    }\n",
       "</style>\n",
       "<table border=\"1\" class=\"dataframe\">\n",
       "  <thead>\n",
       "    <tr style=\"text-align: right;\">\n",
       "      <th></th>\n",
       "      <th>video_id</th>\n",
       "      <th>comment_text</th>\n",
       "      <th>likes</th>\n",
       "      <th>replies</th>\n",
       "    </tr>\n",
       "  </thead>\n",
       "  <tbody>\n",
       "    <tr>\n",
       "      <th>0</th>\n",
       "      <td>XpVt6Z1Gjjo</td>\n",
       "      <td>Logan Paul it's yo big day ‼️‼️‼️</td>\n",
       "      <td>4</td>\n",
       "      <td>0</td>\n",
       "    </tr>\n",
       "    <tr>\n",
       "      <th>1</th>\n",
       "      <td>XpVt6Z1Gjjo</td>\n",
       "      <td>I've been following you from the start of your...</td>\n",
       "      <td>3</td>\n",
       "      <td>0</td>\n",
       "    </tr>\n",
       "    <tr>\n",
       "      <th>2</th>\n",
       "      <td>XpVt6Z1Gjjo</td>\n",
       "      <td>Say hi to Kong and maverick for me</td>\n",
       "      <td>3</td>\n",
       "      <td>0</td>\n",
       "    </tr>\n",
       "    <tr>\n",
       "      <th>3</th>\n",
       "      <td>XpVt6Z1Gjjo</td>\n",
       "      <td>MY FAN . attendance</td>\n",
       "      <td>3</td>\n",
       "      <td>0</td>\n",
       "    </tr>\n",
       "    <tr>\n",
       "      <th>4</th>\n",
       "      <td>XpVt6Z1Gjjo</td>\n",
       "      <td>trending 😉</td>\n",
       "      <td>3</td>\n",
       "      <td>0</td>\n",
       "    </tr>\n",
       "  </tbody>\n",
       "</table>\n",
       "</div>"
      ],
      "text/plain": [
       "      video_id                                       comment_text likes  \\\n",
       "0  XpVt6Z1Gjjo                  Logan Paul it's yo big day ‼️‼️‼️     4   \n",
       "1  XpVt6Z1Gjjo  I've been following you from the start of your...     3   \n",
       "2  XpVt6Z1Gjjo                 Say hi to Kong and maverick for me     3   \n",
       "3  XpVt6Z1Gjjo                                MY FAN . attendance     3   \n",
       "4  XpVt6Z1Gjjo                                         trending 😉     3   \n",
       "\n",
       "  replies  \n",
       "0       0  \n",
       "1       0  \n",
       "2       0  \n",
       "3       0  \n",
       "4       0  "
      ]
     },
     "execution_count": 18,
     "metadata": {},
     "output_type": "execute_result"
    }
   ],
   "source": [
    "comments.head()\n"
   ]
  },
  {
   "cell_type": "code",
   "execution_count": 20,
   "id": "42897079-d4d8-4191-bb48-141d2508c94e",
   "metadata": {},
   "outputs": [
    {
     "data": {
      "text/html": [
       "<div>\n",
       "<style scoped>\n",
       "    .dataframe tbody tr th:only-of-type {\n",
       "        vertical-align: middle;\n",
       "    }\n",
       "\n",
       "    .dataframe tbody tr th {\n",
       "        vertical-align: top;\n",
       "    }\n",
       "\n",
       "    .dataframe thead th {\n",
       "        text-align: right;\n",
       "    }\n",
       "</style>\n",
       "<table border=\"1\" class=\"dataframe\">\n",
       "  <thead>\n",
       "    <tr style=\"text-align: right;\">\n",
       "      <th></th>\n",
       "      <th>video_id</th>\n",
       "      <th>comment_text</th>\n",
       "      <th>likes</th>\n",
       "      <th>replies</th>\n",
       "    </tr>\n",
       "  </thead>\n",
       "  <tbody>\n",
       "    <tr>\n",
       "      <th>0</th>\n",
       "      <td>False</td>\n",
       "      <td>False</td>\n",
       "      <td>False</td>\n",
       "      <td>False</td>\n",
       "    </tr>\n",
       "    <tr>\n",
       "      <th>1</th>\n",
       "      <td>False</td>\n",
       "      <td>False</td>\n",
       "      <td>False</td>\n",
       "      <td>False</td>\n",
       "    </tr>\n",
       "    <tr>\n",
       "      <th>2</th>\n",
       "      <td>False</td>\n",
       "      <td>False</td>\n",
       "      <td>False</td>\n",
       "      <td>False</td>\n",
       "    </tr>\n",
       "    <tr>\n",
       "      <th>3</th>\n",
       "      <td>False</td>\n",
       "      <td>False</td>\n",
       "      <td>False</td>\n",
       "      <td>False</td>\n",
       "    </tr>\n",
       "    <tr>\n",
       "      <th>4</th>\n",
       "      <td>False</td>\n",
       "      <td>False</td>\n",
       "      <td>False</td>\n",
       "      <td>False</td>\n",
       "    </tr>\n",
       "    <tr>\n",
       "      <th>...</th>\n",
       "      <td>...</td>\n",
       "      <td>...</td>\n",
       "      <td>...</td>\n",
       "      <td>...</td>\n",
       "    </tr>\n",
       "    <tr>\n",
       "      <th>691395</th>\n",
       "      <td>False</td>\n",
       "      <td>False</td>\n",
       "      <td>False</td>\n",
       "      <td>False</td>\n",
       "    </tr>\n",
       "    <tr>\n",
       "      <th>691396</th>\n",
       "      <td>False</td>\n",
       "      <td>False</td>\n",
       "      <td>False</td>\n",
       "      <td>False</td>\n",
       "    </tr>\n",
       "    <tr>\n",
       "      <th>691397</th>\n",
       "      <td>False</td>\n",
       "      <td>False</td>\n",
       "      <td>False</td>\n",
       "      <td>False</td>\n",
       "    </tr>\n",
       "    <tr>\n",
       "      <th>691398</th>\n",
       "      <td>False</td>\n",
       "      <td>False</td>\n",
       "      <td>False</td>\n",
       "      <td>False</td>\n",
       "    </tr>\n",
       "    <tr>\n",
       "      <th>691399</th>\n",
       "      <td>False</td>\n",
       "      <td>False</td>\n",
       "      <td>False</td>\n",
       "      <td>False</td>\n",
       "    </tr>\n",
       "  </tbody>\n",
       "</table>\n",
       "<p>691400 rows × 4 columns</p>\n",
       "</div>"
      ],
      "text/plain": [
       "        video_id  comment_text  likes  replies\n",
       "0          False         False  False    False\n",
       "1          False         False  False    False\n",
       "2          False         False  False    False\n",
       "3          False         False  False    False\n",
       "4          False         False  False    False\n",
       "...          ...           ...    ...      ...\n",
       "691395     False         False  False    False\n",
       "691396     False         False  False    False\n",
       "691397     False         False  False    False\n",
       "691398     False         False  False    False\n",
       "691399     False         False  False    False\n",
       "\n",
       "[691400 rows x 4 columns]"
      ]
     },
     "execution_count": 20,
     "metadata": {},
     "output_type": "execute_result"
    }
   ],
   "source": [
    "comments.isnull()"
   ]
  },
  {
   "cell_type": "code",
   "execution_count": 73,
   "id": "cd7a29d1-acc1-453a-85ec-90708260aca6",
   "metadata": {},
   "outputs": [
    {
     "data": {
      "text/plain": [
       "'comments.isnull()\\nPurpose: This line creates a DataFrame of the same shape as comments, but with boolean values indicating whether each element is missing (NaN - Not a Number).\\nExplanation:\\nisnull() is a Pandas DataFrame method that returns True if a value is missing and False otherwise.\\nThis is the first step in identifying missing values.\\nThe returned DataFrame is a mask, where True values indicate missing data.\\n'"
      ]
     },
     "execution_count": 73,
     "metadata": {},
     "output_type": "execute_result"
    }
   ],
   "source": [
    "\"\"\"comments.isnull()\n",
    "Purpose: This line creates a DataFrame of the same shape as comments, but with boolean values indicating whether each element is missing (NaN - Not a Number).\n",
    "Explanation:\n",
    "isnull() is a Pandas DataFrame method that returns True if a value is missing and False otherwise.\n",
    "This is the first step in identifying missing values.\n",
    "The returned DataFrame is a mask, where True values indicate missing data.\n",
    "\"\"\""
   ]
  },
  {
   "cell_type": "code",
   "execution_count": 16,
   "id": "9bd24fb2-eddc-44f3-8353-ae1be9ef68d9",
   "metadata": {},
   "outputs": [
    {
     "data": {
      "text/plain": [
       "video_id         0\n",
       "comment_text    26\n",
       "likes            0\n",
       "replies          0\n",
       "dtype: int64"
      ]
     },
     "execution_count": 16,
     "metadata": {},
     "output_type": "execute_result"
    }
   ],
   "source": [
    "comments.isnull().sum()"
   ]
  },
  {
   "cell_type": "code",
   "execution_count": 71,
   "id": "f2282edf-4232-46fb-bdc8-a2ecd797ff61",
   "metadata": {},
   "outputs": [
    {
     "data": {
      "text/plain": [
       "'comments.isnull().sum()\\nPurpose: This line calculates the number of missing values in each column of the comments DataFrame.\\nExplanation:\\nWe chain the sum() method after isnull().\\nsum() treats True as 1 and False as 0, so it counts the number of True values (missing values) in each column.\\nThis provides a summary of missing values, which is essential for deciding how to handle them.\\n'"
      ]
     },
     "execution_count": 71,
     "metadata": {},
     "output_type": "execute_result"
    }
   ],
   "source": [
    "\"\"\"comments.isnull().sum()\n",
    "Purpose: This line calculates the number of missing values in each column of the comments DataFrame.\n",
    "Explanation:\n",
    "We chain the sum() method after isnull().\n",
    "sum() treats True as 1 and False as 0, so it counts the number of True values (missing values) in each column.\n",
    "This provides a summary of missing values, which is essential for deciding how to handle them.\n",
    "\"\"\""
   ]
  },
  {
   "cell_type": "code",
   "execution_count": 24,
   "id": "95679288-02d9-4111-992a-e7f39d0ec4d4",
   "metadata": {},
   "outputs": [],
   "source": [
    "comments.dropna(inplace=True)"
   ]
  },
  {
   "cell_type": "code",
   "execution_count": null,
   "id": "a984eb44-4e74-4b1c-9d30-1e5c59999a68",
   "metadata": {},
   "outputs": [],
   "source": [
    "\"\"\"comments.dropna(inplace=True)\n",
    "Purpose: This line removes rows containing missing values from the comments DataFrame.\n",
    "Explanation:\n",
    "dropna() is a Pandas DataFrame method that removes rows or columns with missing values.\n",
    "inplace=True modifies the original comments DataFrame directly. Without inplace=True, dropna returns a modified copy of the dataframe, and the original dataframe remains unchanged.\n",
    "This is a common method for handling missing values when you want to remove incomplete records.\"\"\""
   ]
  },
  {
   "cell_type": "code",
   "execution_count": 26,
   "id": "65b43acb-f662-4ece-832b-fe6ac7e59cb4",
   "metadata": {},
   "outputs": [
    {
     "data": {
      "text/plain": [
       "video_id        0\n",
       "comment_text    0\n",
       "likes           0\n",
       "replies         0\n",
       "dtype: int64"
      ]
     },
     "execution_count": 26,
     "metadata": {},
     "output_type": "execute_result"
    }
   ],
   "source": [
    "comments.isnull().sum()"
   ]
  },
  {
   "cell_type": "code",
   "execution_count": 69,
   "id": "f576b7b1-94fb-4c07-8cde-11ca05a9dd98",
   "metadata": {},
   "outputs": [
    {
     "data": {
      "text/plain": [
       "'comments.isnull().sum()\\nPurpose: This line (again) calculates the number of missing values in each column of the comments DataFrame.\\nExplanation:\\nThis is done after dropna() to verify that the missing values have been removed.\\nIf dropna() was successful, this line should output a series of zeros, indicating no missing values.'"
      ]
     },
     "execution_count": 69,
     "metadata": {},
     "output_type": "execute_result"
    }
   ],
   "source": [
    "\"\"\"comments.isnull().sum()\n",
    "Purpose: This line (again) calculates the number of missing values in each column of the comments DataFrame.\n",
    "Explanation:\n",
    "This is done after dropna() to verify that the missing values have been removed.\n",
    "If dropna() was successful, this line should output a series of zeros, indicating no missing values.\"\"\""
   ]
  },
  {
   "cell_type": "markdown",
   "id": "dc3eab92-5e26-4e69-8ea4-989adc3b4a56",
   "metadata": {},
   "source": [
    "comments.shape()"
   ]
  },
  {
   "cell_type": "code",
   "execution_count": 29,
   "id": "6c65a31b-6bba-49ec-a17e-081f399a21b3",
   "metadata": {},
   "outputs": [
    {
     "data": {
      "text/plain": [
       "(691374, 4)"
      ]
     },
     "execution_count": 29,
     "metadata": {},
     "output_type": "execute_result"
    }
   ],
   "source": [
    "comments.shape"
   ]
  },
  {
   "cell_type": "code",
   "execution_count": 67,
   "id": "8c5a8593-579f-4a86-b53f-207de7ca3298",
   "metadata": {},
   "outputs": [
    {
     "data": {
      "text/plain": [
       "'comments.shape\\nPurpose: This line returns the dimensions (number of rows and columns) of the comments DataFrame.\\nExplanation:\\nshape is a Pandas DataFrame attribute that returns a tuple (rows, columns).\\nThis is useful for checking how many rows were removed by dropna() by comparing the shape before and after the operation.'"
      ]
     },
     "execution_count": 67,
     "metadata": {},
     "output_type": "execute_result"
    }
   ],
   "source": [
    "\"\"\"comments.shape\n",
    "Purpose: This line returns the dimensions (number of rows and columns) of the comments DataFrame.\n",
    "Explanation:\n",
    "shape is a Pandas DataFrame attribute that returns a tuple (rows, columns).\n",
    "This is useful for checking how many rows were removed by dropna() by comparing the shape before and after the operation.\"\"\""
   ]
  },
  {
   "cell_type": "code",
   "execution_count": 31,
   "id": "d6d0dfe5-720b-4b20-adaf-f3ff3f3cfee4",
   "metadata": {},
   "outputs": [
    {
     "name": "stdout",
     "output_type": "stream",
     "text": [
      "Defaulting to user installation because normal site-packages is not writeable\n",
      "Collecting textblob\n",
      "  Downloading textblob-0.19.0-py3-none-any.whl.metadata (4.4 kB)\n",
      "Requirement already satisfied: nltk>=3.9 in c:\\programdata\\anaconda3\\lib\\site-packages (from textblob) (3.9.1)\n",
      "Requirement already satisfied: click in c:\\programdata\\anaconda3\\lib\\site-packages (from nltk>=3.9->textblob) (8.1.7)\n",
      "Requirement already satisfied: joblib in c:\\programdata\\anaconda3\\lib\\site-packages (from nltk>=3.9->textblob) (1.4.2)\n",
      "Requirement already satisfied: regex>=2021.8.3 in c:\\programdata\\anaconda3\\lib\\site-packages (from nltk>=3.9->textblob) (2024.9.11)\n",
      "Requirement already satisfied: tqdm in c:\\programdata\\anaconda3\\lib\\site-packages (from nltk>=3.9->textblob) (4.66.5)\n",
      "Requirement already satisfied: colorama in c:\\programdata\\anaconda3\\lib\\site-packages (from click->nltk>=3.9->textblob) (0.4.6)\n",
      "Downloading textblob-0.19.0-py3-none-any.whl (624 kB)\n",
      "   ---------------------------------------- 0.0/624.3 kB ? eta -:--:--\n",
      "   ---------------------------------------- 624.3/624.3 kB 4.6 MB/s eta 0:00:00\n",
      "Installing collected packages: textblob\n",
      "Successfully installed textblob-0.19.0\n"
     ]
    }
   ],
   "source": [
    "!pip install textblob"
   ]
  },
  {
   "cell_type": "code",
   "execution_count": 33,
   "id": "da51fc24-f29a-4c21-ae7d-4a8e32f83d30",
   "metadata": {},
   "outputs": [],
   "source": [
    "from textblob import TextBlob"
   ]
  },
  {
   "cell_type": "code",
   "execution_count": 35,
   "id": "db9cd59d-b4d8-4460-ac59-eb1a70d981fa",
   "metadata": {},
   "outputs": [
    {
     "data": {
      "text/plain": [
       "'C:\\\\Users\\\\ALOKITA\\\\Desktop\\\\CanWill\\\\Sentiment_Analysis'"
      ]
     },
     "execution_count": 35,
     "metadata": {},
     "output_type": "execute_result"
    }
   ],
   "source": [
    "pwd\n"
   ]
  },
  {
   "cell_type": "code",
   "execution_count": 37,
   "id": "908faeb4-0ea5-4113-b428-d8af5821ce89",
   "metadata": {},
   "outputs": [],
   "source": [
    "polarity = []\n",
    "\n",
    "for comment in comments['comment_text']:\n",
    "    try:\n",
    "        polarity.append(TextBlob(comment).sentiment.polarity)\n",
    "    except:\n",
    "        polarity.append(0)\n",
    "    "
   ]
  },
  {
   "cell_type": "code",
   "execution_count": null,
   "id": "9fbf4afa-7e0b-4a65-8c6f-5df16e0a1cfd",
   "metadata": {},
   "outputs": [],
   "source": [
    "'''polarity.append(TextBlob(comment).sentiment.polarity) step by step:\n",
    "\n",
    "comment:\n",
    "\n",
    "This represents a single comment from the 'comment_text' column of your DataFrame. It's the string of text that you want to analyze for sentiment.\n",
    "TextBlob(comment):\n",
    "\n",
    "This creates a TextBlob object from the comment string.\n",
    "TextBlob is a class from the textblob library that provides a simple API for natural language processing tasks, including sentiment analysis.\n",
    "Essentially, it takes your text and turns it into an object that can be analyzed.\n",
    ".sentiment:\n",
    "\n",
    "The sentiment attribute of a TextBlob object returns a Sentiment object.\n",
    "This Sentiment object contains two properties: polarity and subjectivity.\n",
    ".sentiment.polarity:\n",
    "\n",
    "This accesses the polarity property of the Sentiment object.\n",
    "polarity is a floating-point number that represents the sentiment of the text.\n",
    "It ranges from -1.0 to 1.0:\n",
    "-1.0 means the text is extremely negative.\n",
    "0.0 means the text is neutral.\n",
    "1.0 means the text is extremely positive.\n",
    "polarity.append(...):\n",
    "\n",
    "polarity is a list that you initialized earlier in your code.\n",
    "The append() method adds the calculated sentiment.polarity value to the end of the polarity list.\n",
    "Therefore, this line takes the resulting polarity score, and adds it to the list of polarity scores.\n",
    "In simpler terms:\n",
    "\n",
    "This line does the following:\n",
    "\n",
    "Takes a comment.\n",
    "Analyzes its sentiment using TextBlob.\n",
    "Extracts the polarity score (how positive or negative the comment is).\n",
    "Adds that score to a list of polarity scores.'''"
   ]
  },
  {
   "cell_type": "code",
   "execution_count": 45,
   "id": "086ff5b2-d1a1-4a0e-80ba-a588a70d3eb2",
   "metadata": {},
   "outputs": [
    {
     "data": {
      "text/plain": [
       "\"When you use square brackets [] with a DataFrame and a string (like 'polarity'), you're either:\\nAccessing an existing column: If a column named 'polarity' already exists, this would retrieve that column.\\nCreating a new column: If a column named 'polarity' does not exist, this creates a new column with that name.\""
      ]
     },
     "execution_count": 45,
     "metadata": {},
     "output_type": "execute_result"
    }
   ],
   "source": [
    "comments['polarity']  = polarity \n",
    "\"\"\"When you use square brackets [] with a DataFrame and a string (like 'polarity'), you're either:\n",
    "Accessing an existing column: If a column named 'polarity' already exists, this would retrieve that column.\n",
    "Creating a new column: If a column named 'polarity' does not exist, this creates a new column with that name.\"\"\""
   ]
  },
  {
   "cell_type": "code",
   "execution_count": 41,
   "id": "140abf0b-ac77-40f5-8f5e-671beedaa9ab",
   "metadata": {},
   "outputs": [
    {
     "data": {
      "text/plain": [
       "691374"
      ]
     },
     "execution_count": 41,
     "metadata": {},
     "output_type": "execute_result"
    }
   ],
   "source": [
    "len(polarity)"
   ]
  },
  {
   "cell_type": "code",
   "execution_count": 47,
   "id": "a2a82d52-28be-4e57-b595-3eb6886fd5d9",
   "metadata": {},
   "outputs": [],
   "source": [
    "filter1 = comments['polarity'] == 1"
   ]
  },
  {
   "cell_type": "code",
   "execution_count": 49,
   "id": "b1678ffe-8bb5-42a0-81d4-fa24d4f74f10",
   "metadata": {},
   "outputs": [],
   "source": [
    "comments_positive = comments[filter1]"
   ]
  },
  {
   "cell_type": "code",
   "execution_count": 51,
   "id": "2b3fd296-ccbe-4127-9df5-6259bfb77610",
   "metadata": {},
   "outputs": [
    {
     "data": {
      "text/plain": [
       "'filter1 = comments[\\'polarity\\'] == 1\\n\\ncomments[\\'polarity\\']: This accesses the \\'polarity\\' column of your comments DataFrame. Remember, this column contains the sentiment polarity scores (ranging from -1 to 1) that you calculated earlier using TextBlob.\\n== 1: This is a comparison operator. It checks if each value in the \\'polarity\\' column is exactly equal to 1.\\ncomments[\\'polarity\\'] == 1: This performs the comparison for every value in the \\'polarity\\' column. The result is a Pandas Series (like a column) of boolean values (True or False).\\nfilter1 = ...: This assigns the resulting boolean Series to the variable filter1.\\nfilter1 now acts as a \"mask.\" It has the same number of rows as your comments DataFrame.\\nWhere a row in comments has a \\'polarity\\' value of 1, the corresponding value in filter1 will be True.\\nWhere a row in comments has a \\'polarity\\' value other than 1, the corresponding value in filter1 will be False.'"
      ]
     },
     "execution_count": 51,
     "metadata": {},
     "output_type": "execute_result"
    }
   ],
   "source": [
    "\"\"\"filter1 = comments['polarity'] == 1\n",
    "\n",
    "comments['polarity']: This accesses the 'polarity' column of your comments DataFrame. Remember, this column contains the sentiment polarity scores (ranging from -1 to 1) that you calculated earlier using TextBlob.\n",
    "== 1: This is a comparison operator. It checks if each value in the 'polarity' column is exactly equal to 1.\n",
    "comments['polarity'] == 1: This performs the comparison for every value in the 'polarity' column. The result is a Pandas Series (like a column) of boolean values (True or False).\n",
    "filter1 = ...: This assigns the resulting boolean Series to the variable filter1.\n",
    "filter1 now acts as a \"mask.\" It has the same number of rows as your comments DataFrame.\n",
    "Where a row in comments has a 'polarity' value of 1, the corresponding value in filter1 will be True.\n",
    "Where a row in comments has a 'polarity' value other than 1, the corresponding value in filter1 will be False.\"\"\""
   ]
  },
  {
   "cell_type": "code",
   "execution_count": 53,
   "id": "8511e5ff-704d-4ef4-9229-5010f60d055f",
   "metadata": {},
   "outputs": [
    {
     "data": {
      "text/plain": [
       "'The concept of a \"mask\" in computing is quite versatile, and its meaning can vary depending on the context. However, the underlying principle remains the same: a mask is used to selectively modify or extract portions of data. Here\\'s a breakdown of its common applications:\\n\\n1. Bitwise Operations:\\n\\nIn this context, a mask is a sequence of bits used to manipulate individual bits within a binary value.\\nIt allows you to:\\nSet specific bits to 1.\\nClear specific bits to 0.\\nCheck the state of specific bits.\\nThis is often used in low-level programming, network protocols, and hardware interactions. \\xa0 \\n2. Data Filtering:\\n\\nIn data analysis (like with Pandas), a mask is a boolean array (or Series) used to select specific rows or elements from a dataset.\\nTrue values indicate the elements to be included, and False values indicate the elements to be excluded.\\nThis is a powerful way to filter and subset data based on certain conditions.\\n3. Image Processing:\\n\\nIn image editing, a mask is used to selectively apply effects or modifications to specific areas of an image.\\nIt allows you to isolate parts of an image for precise editing.\\nFor example, you might use a mask to change the color of a specific object in a photograph without affecting the background. \\xa0 \\n\\xa0 \\n4. Network Subnetting:\\n\\nIn networking, a subnet mask is used to divide an IP network into smaller subnetworks.\\nIt defines which portion of an IP address represents the network and which portion represents the host.\\nThis is essential for efficient network routing and management.\\n\\xa0 \\nKey Idea:\\n\\nRegardless of the specific application, a mask acts as a \"filter\" or \"template\" that controls which parts of the data are affected.\\nIn essence, a mask is a tool that allows you to selectively focus on or modify specific parts of data, whether it\\'s bits, data rows, image pixels, or network addresses.\\n\\n \\xa0 \\n\\n\\nSources and related content\\n'"
      ]
     },
     "execution_count": 53,
     "metadata": {},
     "output_type": "execute_result"
    }
   ],
   "source": [
    "\"\"\"The concept of a \"mask\" in computing is quite versatile, and its meaning can vary depending on the context. However, the underlying principle remains the same: a mask is used to selectively modify or extract portions of data. Here's a breakdown of its common applications:\n",
    "\n",
    "1. Bitwise Operations:\n",
    "\n",
    "In this context, a mask is a sequence of bits used to manipulate individual bits within a binary value.\n",
    "It allows you to:\n",
    "Set specific bits to 1.\n",
    "Clear specific bits to 0.\n",
    "Check the state of specific bits.\n",
    "This is often used in low-level programming, network protocols, and hardware interactions.   \n",
    "2. Data Filtering:\n",
    "\n",
    "In data analysis (like with Pandas), a mask is a boolean array (or Series) used to select specific rows or elements from a dataset.\n",
    "True values indicate the elements to be included, and False values indicate the elements to be excluded.\n",
    "This is a powerful way to filter and subset data based on certain conditions.\n",
    "3. Image Processing:\n",
    "\n",
    "In image editing, a mask is used to selectively apply effects or modifications to specific areas of an image.\n",
    "It allows you to isolate parts of an image for precise editing.\n",
    "For example, you might use a mask to change the color of a specific object in a photograph without affecting the background.   \n",
    "  \n",
    "4. Network Subnetting:\n",
    "\n",
    "In networking, a subnet mask is used to divide an IP network into smaller subnetworks.\n",
    "It defines which portion of an IP address represents the network and which portion represents the host.\n",
    "This is essential for efficient network routing and management.\n",
    "  \n",
    "Key Idea:\n",
    "\n",
    "Regardless of the specific application, a mask acts as a \"filter\" or \"template\" that controls which parts of the data are affected.\n",
    "In essence, a mask is a tool that allows you to selectively focus on or modify specific parts of data, whether it's bits, data rows, image pixels, or network addresses.\n",
    "\n",
    "   \n",
    "\n",
    "\n",
    "Sources and related content\n",
    "\"\"\""
   ]
  },
  {
   "cell_type": "code",
   "execution_count": 55,
   "id": "edcfa182-10e0-48d4-bdf5-7e99236cd178",
   "metadata": {},
   "outputs": [
    {
     "data": {
      "text/plain": [
       "\" you're describing a common and powerful technique in Pandas for creating subsets of DataFrames based on filtering conditions. Let's break down what's happening in comments_positive = comments[filter1]:\\n\\nUnderstanding the Components:\\n\\ncomments: This is your original Pandas DataFrame. It's the source data you're working with.\\nfilter1: This is a boolean Series (a column-like structure) that acts as a mask. It contains True values for the rows you want to select and False values for the rows you want to exclude.\\ncomments[filter1]: This is the core of the filtering operation. It uses the boolean Series filter1 to select rows from the comments DataFrame.\\ncomments_positive = ...: This assigns the resulting subset (the filtered rows) to a new DataFrame called comments_positive.\\nHow the Filtering Works:\\n\\nWhen you use a boolean Series within square brackets [] to index a DataFrame, Pandas interprets it as a row selection mask.\\nIt iterates through the filter1 Series.\\nFor each row where filter1 is True, Pandas includes that row in the new comments_positive DataFrame.\\nFor each row where filter1 is False, Pandas excludes that row.\\nExample:\\n\\nPython\\n\\nimport pandas as pd\\n\\ndata = {'comment': ['Great product!', 'Not good.', 'Love it!', 'Terrible'],\\n        'rating': [5, 1, 4, 1]}\\ncomments = pd.DataFrame(data)\\n\\n# Create a boolean Series (filter)\\nfilter1 = comments['rating'] > 3  # Select comments with ratings > 3\\n\\n# Apply the filter\\ncomments_positive = comments[filter1]\\n\\nprint(comments_positive)\\nOutput:\\n\\n         comment  rating\\n0  Great product!       5\\n2        Love it!       4\\nKey Points:\\n\\nBoolean Series: The filter1 variable must be a Pandas Series of boolean values (True/False).\\nCreating the filter: The filter can be created in a multitude of ways. Common ways are by comparing column values to a value as in the example above, or by using the isin() method to check if a column value is in a list of values.\\nNew DataFrame: The result is a new DataFrame, comments_positive, containing only the selected rows. The original comments DataFrame remains unchanged.\\nEfficiency: This is a very efficient way to filter DataFrames in Pandas.\\nThis filtering technique is fundamental for data cleaning, analysis, and manipulation in Pandas.\""
      ]
     },
     "execution_count": 55,
     "metadata": {},
     "output_type": "execute_result"
    }
   ],
   "source": [
    "\"\"\" you're describing a common and powerful technique in Pandas for creating subsets of DataFrames based on filtering conditions. Let's break down what's happening in comments_positive = comments[filter1]:\n",
    "\n",
    "Understanding the Components:\n",
    "\n",
    "comments: This is your original Pandas DataFrame. It's the source data you're working with.\n",
    "filter1: This is a boolean Series (a column-like structure) that acts as a mask. It contains True values for the rows you want to select and False values for the rows you want to exclude.\n",
    "comments[filter1]: This is the core of the filtering operation. It uses the boolean Series filter1 to select rows from the comments DataFrame.\n",
    "comments_positive = ...: This assigns the resulting subset (the filtered rows) to a new DataFrame called comments_positive.\n",
    "How the Filtering Works:\n",
    "\n",
    "When you use a boolean Series within square brackets [] to index a DataFrame, Pandas interprets it as a row selection mask.\n",
    "It iterates through the filter1 Series.\n",
    "For each row where filter1 is True, Pandas includes that row in the new comments_positive DataFrame.\n",
    "For each row where filter1 is False, Pandas excludes that row.\n",
    "Example:\n",
    "\n",
    "Python\n",
    "\n",
    "import pandas as pd\n",
    "\n",
    "data = {'comment': ['Great product!', 'Not good.', 'Love it!', 'Terrible'],\n",
    "        'rating': [5, 1, 4, 1]}\n",
    "comments = pd.DataFrame(data)\n",
    "\n",
    "# Create a boolean Series (filter)\n",
    "filter1 = comments['rating'] > 3  # Select comments with ratings > 3\n",
    "\n",
    "# Apply the filter\n",
    "comments_positive = comments[filter1]\n",
    "\n",
    "print(comments_positive)\n",
    "Output:\n",
    "\n",
    "         comment  rating\n",
    "0  Great product!       5\n",
    "2        Love it!       4\n",
    "Key Points:\n",
    "\n",
    "Boolean Series: The filter1 variable must be a Pandas Series of boolean values (True/False).\n",
    "Creating the filter: The filter can be created in a multitude of ways. Common ways are by comparing column values to a value as in the example above, or by using the isin() method to check if a column value is in a list of values.\n",
    "New DataFrame: The result is a new DataFrame, comments_positive, containing only the selected rows. The original comments DataFrame remains unchanged.\n",
    "Efficiency: This is a very efficient way to filter DataFrames in Pandas.\n",
    "This filtering technique is fundamental for data cleaning, analysis, and manipulation in Pandas.\"\"\""
   ]
  },
  {
   "cell_type": "code",
   "execution_count": 57,
   "id": "0bfa2aed-dbc5-4018-b649-b693828cdd01",
   "metadata": {},
   "outputs": [],
   "source": [
    "negative_comments = comments['polarity'] == -1"
   ]
  },
  {
   "cell_type": "code",
   "execution_count": 59,
   "id": "8ecba149-8d0e-4d15-97ba-86b0bd03a7ee",
   "metadata": {},
   "outputs": [],
   "source": [
    "comments_negative_filtered = comments[negative_comments]"
   ]
  },
  {
   "cell_type": "code",
   "execution_count": 61,
   "id": "7164f7c3-68dc-445e-bd99-8aef008db6a3",
   "metadata": {},
   "outputs": [
    {
     "data": {
      "text/html": [
       "<div>\n",
       "<style scoped>\n",
       "    .dataframe tbody tr th:only-of-type {\n",
       "        vertical-align: middle;\n",
       "    }\n",
       "\n",
       "    .dataframe tbody tr th {\n",
       "        vertical-align: top;\n",
       "    }\n",
       "\n",
       "    .dataframe thead th {\n",
       "        text-align: right;\n",
       "    }\n",
       "</style>\n",
       "<table border=\"1\" class=\"dataframe\">\n",
       "  <thead>\n",
       "    <tr style=\"text-align: right;\">\n",
       "      <th></th>\n",
       "      <th>video_id</th>\n",
       "      <th>comment_text</th>\n",
       "      <th>likes</th>\n",
       "      <th>replies</th>\n",
       "      <th>polarity</th>\n",
       "    </tr>\n",
       "  </thead>\n",
       "  <tbody>\n",
       "    <tr>\n",
       "      <th>512</th>\n",
       "      <td>8wNr-NQImFg</td>\n",
       "      <td>BEN CARSON IS THE MAN!!!!! THEY HATE HIM CAUSE...</td>\n",
       "      <td>0</td>\n",
       "      <td>0</td>\n",
       "      <td>-1.0</td>\n",
       "    </tr>\n",
       "    <tr>\n",
       "      <th>562</th>\n",
       "      <td>8wNr-NQImFg</td>\n",
       "      <td>Well… The brain surgeon Ben Carson just proved...</td>\n",
       "      <td>0</td>\n",
       "      <td>0</td>\n",
       "      <td>-1.0</td>\n",
       "    </tr>\n",
       "    <tr>\n",
       "      <th>952</th>\n",
       "      <td>Ayb_2qbZHm4</td>\n",
       "      <td>WHY DID YOU MAKE FURRY FORCE?! SO NASTY!!!</td>\n",
       "      <td>0</td>\n",
       "      <td>0</td>\n",
       "      <td>-1.0</td>\n",
       "    </tr>\n",
       "    <tr>\n",
       "      <th>1371</th>\n",
       "      <td>vu_9muoxT50</td>\n",
       "      <td>WTF BRUH!!!!!!</td>\n",
       "      <td>0</td>\n",
       "      <td>0</td>\n",
       "      <td>-1.0</td>\n",
       "    </tr>\n",
       "    <tr>\n",
       "      <th>1391</th>\n",
       "      <td>vu_9muoxT50</td>\n",
       "      <td>cheeseus christ thats insane!!!</td>\n",
       "      <td>0</td>\n",
       "      <td>0</td>\n",
       "      <td>-1.0</td>\n",
       "    </tr>\n",
       "    <tr>\n",
       "      <th>1932</th>\n",
       "      <td>-Ifnaxi2LQg</td>\n",
       "      <td>this is the worst thing i've heard. ever.</td>\n",
       "      <td>0</td>\n",
       "      <td>0</td>\n",
       "      <td>-1.0</td>\n",
       "    </tr>\n",
       "    <tr>\n",
       "      <th>2043</th>\n",
       "      <td>B7YaMkCl3XA</td>\n",
       "      <td>Economy is horrible in Cuba. It's going to be ...</td>\n",
       "      <td>0</td>\n",
       "      <td>0</td>\n",
       "      <td>-1.0</td>\n",
       "    </tr>\n",
       "    <tr>\n",
       "      <th>2088</th>\n",
       "      <td>B7YaMkCl3XA</td>\n",
       "      <td>Sub to me if this is terrible</td>\n",
       "      <td>0</td>\n",
       "      <td>1</td>\n",
       "      <td>-1.0</td>\n",
       "    </tr>\n",
       "    <tr>\n",
       "      <th>2192</th>\n",
       "      <td>5ywKal6-anc</td>\n",
       "      <td>PATHETIC</td>\n",
       "      <td>1</td>\n",
       "      <td>0</td>\n",
       "      <td>-1.0</td>\n",
       "    </tr>\n",
       "    <tr>\n",
       "      <th>2410</th>\n",
       "      <td>EVp4-qjWVJE</td>\n",
       "      <td>I don't like this sportscaster  sounds very an...</td>\n",
       "      <td>0</td>\n",
       "      <td>0</td>\n",
       "      <td>-1.0</td>\n",
       "    </tr>\n",
       "  </tbody>\n",
       "</table>\n",
       "</div>"
      ],
      "text/plain": [
       "         video_id                                       comment_text likes  \\\n",
       "512   8wNr-NQImFg  BEN CARSON IS THE MAN!!!!! THEY HATE HIM CAUSE...     0   \n",
       "562   8wNr-NQImFg  Well… The brain surgeon Ben Carson just proved...     0   \n",
       "952   Ayb_2qbZHm4         WHY DID YOU MAKE FURRY FORCE?! SO NASTY!!!     0   \n",
       "1371  vu_9muoxT50                                     WTF BRUH!!!!!!     0   \n",
       "1391  vu_9muoxT50                    cheeseus christ thats insane!!!     0   \n",
       "1932  -Ifnaxi2LQg          this is the worst thing i've heard. ever.     0   \n",
       "2043  B7YaMkCl3XA  Economy is horrible in Cuba. It's going to be ...     0   \n",
       "2088  B7YaMkCl3XA                      Sub to me if this is terrible     0   \n",
       "2192  5ywKal6-anc                                           PATHETIC     1   \n",
       "2410  EVp4-qjWVJE  I don't like this sportscaster  sounds very an...     0   \n",
       "\n",
       "     replies  polarity  \n",
       "512        0      -1.0  \n",
       "562        0      -1.0  \n",
       "952        0      -1.0  \n",
       "1371       0      -1.0  \n",
       "1391       0      -1.0  \n",
       "1932       0      -1.0  \n",
       "2043       0      -1.0  \n",
       "2088       1      -1.0  \n",
       "2192       0      -1.0  \n",
       "2410       0      -1.0  "
      ]
     },
     "execution_count": 61,
     "metadata": {},
     "output_type": "execute_result"
    }
   ],
   "source": [
    "comments_negative_filtered.head(10)"
   ]
  },
  {
   "cell_type": "code",
   "execution_count": 63,
   "id": "d3e67606-d592-44b3-bb90-eed7d417e370",
   "metadata": {},
   "outputs": [
    {
     "name": "stdout",
     "output_type": "stream",
     "text": [
      "Defaulting to user installation because normal site-packages is not writeable\n",
      "Collecting wordcloud\n",
      "  Downloading wordcloud-1.9.4-cp312-cp312-win_amd64.whl.metadata (3.5 kB)\n",
      "Requirement already satisfied: numpy>=1.6.1 in c:\\programdata\\anaconda3\\lib\\site-packages (from wordcloud) (1.26.4)\n",
      "Requirement already satisfied: pillow in c:\\programdata\\anaconda3\\lib\\site-packages (from wordcloud) (10.4.0)\n",
      "Requirement already satisfied: matplotlib in c:\\programdata\\anaconda3\\lib\\site-packages (from wordcloud) (3.9.2)\n",
      "Requirement already satisfied: contourpy>=1.0.1 in c:\\programdata\\anaconda3\\lib\\site-packages (from matplotlib->wordcloud) (1.2.0)\n",
      "Requirement already satisfied: cycler>=0.10 in c:\\programdata\\anaconda3\\lib\\site-packages (from matplotlib->wordcloud) (0.11.0)\n",
      "Requirement already satisfied: fonttools>=4.22.0 in c:\\programdata\\anaconda3\\lib\\site-packages (from matplotlib->wordcloud) (4.51.0)\n",
      "Requirement already satisfied: kiwisolver>=1.3.1 in c:\\programdata\\anaconda3\\lib\\site-packages (from matplotlib->wordcloud) (1.4.4)\n",
      "Requirement already satisfied: packaging>=20.0 in c:\\programdata\\anaconda3\\lib\\site-packages (from matplotlib->wordcloud) (24.1)\n",
      "Requirement already satisfied: pyparsing>=2.3.1 in c:\\programdata\\anaconda3\\lib\\site-packages (from matplotlib->wordcloud) (3.1.2)\n",
      "Requirement already satisfied: python-dateutil>=2.7 in c:\\programdata\\anaconda3\\lib\\site-packages (from matplotlib->wordcloud) (2.9.0.post0)\n",
      "Requirement already satisfied: six>=1.5 in c:\\programdata\\anaconda3\\lib\\site-packages (from python-dateutil>=2.7->matplotlib->wordcloud) (1.16.0)\n",
      "Downloading wordcloud-1.9.4-cp312-cp312-win_amd64.whl (301 kB)\n",
      "Installing collected packages: wordcloud\n",
      "Successfully installed wordcloud-1.9.4\n"
     ]
    },
    {
     "name": "stderr",
     "output_type": "stream",
     "text": [
      "  WARNING: The script wordcloud_cli.exe is installed in 'C:\\Users\\ALOKITA\\AppData\\Roaming\\Python\\Python312\\Scripts' which is not on PATH.\n",
      "  Consider adding this directory to PATH or, if you prefer to suppress this warning, use --no-warn-script-location.\n"
     ]
    }
   ],
   "source": [
    "!pip install wordcloud"
   ]
  },
  {
   "cell_type": "code",
   "execution_count": 65,
   "id": "ba2ec9b2-ca76-40e2-ba53-8694236e41d1",
   "metadata": {},
   "outputs": [],
   "source": [
    "from wordcloud import WordCloud, STOPWORDS"
   ]
  },
  {
   "cell_type": "code",
   "execution_count": 75,
   "id": "b8128174-5953-4569-ba0f-f027dc50aa1f",
   "metadata": {},
   "outputs": [
    {
     "data": {
      "text/plain": [
       "{'a',\n",
       " 'about',\n",
       " 'above',\n",
       " 'after',\n",
       " 'again',\n",
       " 'against',\n",
       " 'all',\n",
       " 'also',\n",
       " 'am',\n",
       " 'an',\n",
       " 'and',\n",
       " 'any',\n",
       " 'are',\n",
       " \"aren't\",\n",
       " 'as',\n",
       " 'at',\n",
       " 'be',\n",
       " 'because',\n",
       " 'been',\n",
       " 'before',\n",
       " 'being',\n",
       " 'below',\n",
       " 'between',\n",
       " 'both',\n",
       " 'but',\n",
       " 'by',\n",
       " 'can',\n",
       " \"can't\",\n",
       " 'cannot',\n",
       " 'com',\n",
       " 'could',\n",
       " \"couldn't\",\n",
       " 'did',\n",
       " \"didn't\",\n",
       " 'do',\n",
       " 'does',\n",
       " \"doesn't\",\n",
       " 'doing',\n",
       " \"don't\",\n",
       " 'down',\n",
       " 'during',\n",
       " 'each',\n",
       " 'else',\n",
       " 'ever',\n",
       " 'few',\n",
       " 'for',\n",
       " 'from',\n",
       " 'further',\n",
       " 'get',\n",
       " 'had',\n",
       " \"hadn't\",\n",
       " 'has',\n",
       " \"hasn't\",\n",
       " 'have',\n",
       " \"haven't\",\n",
       " 'having',\n",
       " 'he',\n",
       " \"he'd\",\n",
       " \"he'll\",\n",
       " \"he's\",\n",
       " 'hence',\n",
       " 'her',\n",
       " 'here',\n",
       " \"here's\",\n",
       " 'hers',\n",
       " 'herself',\n",
       " 'him',\n",
       " 'himself',\n",
       " 'his',\n",
       " 'how',\n",
       " \"how's\",\n",
       " 'however',\n",
       " 'http',\n",
       " 'i',\n",
       " \"i'd\",\n",
       " \"i'll\",\n",
       " \"i'm\",\n",
       " \"i've\",\n",
       " 'if',\n",
       " 'in',\n",
       " 'into',\n",
       " 'is',\n",
       " \"isn't\",\n",
       " 'it',\n",
       " \"it's\",\n",
       " 'its',\n",
       " 'itself',\n",
       " 'just',\n",
       " 'k',\n",
       " \"let's\",\n",
       " 'like',\n",
       " 'me',\n",
       " 'more',\n",
       " 'most',\n",
       " \"mustn't\",\n",
       " 'my',\n",
       " 'myself',\n",
       " 'no',\n",
       " 'nor',\n",
       " 'not',\n",
       " 'of',\n",
       " 'off',\n",
       " 'on',\n",
       " 'once',\n",
       " 'only',\n",
       " 'or',\n",
       " 'other',\n",
       " 'otherwise',\n",
       " 'ought',\n",
       " 'our',\n",
       " 'ours',\n",
       " 'ourselves',\n",
       " 'out',\n",
       " 'over',\n",
       " 'own',\n",
       " 'r',\n",
       " 'same',\n",
       " 'shall',\n",
       " \"shan't\",\n",
       " 'she',\n",
       " \"she'd\",\n",
       " \"she'll\",\n",
       " \"she's\",\n",
       " 'should',\n",
       " \"shouldn't\",\n",
       " 'since',\n",
       " 'so',\n",
       " 'some',\n",
       " 'such',\n",
       " 'than',\n",
       " 'that',\n",
       " \"that's\",\n",
       " 'the',\n",
       " 'their',\n",
       " 'theirs',\n",
       " 'them',\n",
       " 'themselves',\n",
       " 'then',\n",
       " 'there',\n",
       " \"there's\",\n",
       " 'therefore',\n",
       " 'these',\n",
       " 'they',\n",
       " \"they'd\",\n",
       " \"they'll\",\n",
       " \"they're\",\n",
       " \"they've\",\n",
       " 'this',\n",
       " 'those',\n",
       " 'through',\n",
       " 'to',\n",
       " 'too',\n",
       " 'under',\n",
       " 'until',\n",
       " 'up',\n",
       " 'very',\n",
       " 'was',\n",
       " \"wasn't\",\n",
       " 'we',\n",
       " \"we'd\",\n",
       " \"we'll\",\n",
       " \"we're\",\n",
       " \"we've\",\n",
       " 'were',\n",
       " \"weren't\",\n",
       " 'what',\n",
       " \"what's\",\n",
       " 'when',\n",
       " \"when's\",\n",
       " 'where',\n",
       " \"where's\",\n",
       " 'which',\n",
       " 'while',\n",
       " 'who',\n",
       " \"who's\",\n",
       " 'whom',\n",
       " 'why',\n",
       " \"why's\",\n",
       " 'with',\n",
       " \"won't\",\n",
       " 'would',\n",
       " \"wouldn't\",\n",
       " 'www',\n",
       " 'you',\n",
       " \"you'd\",\n",
       " \"you'll\",\n",
       " \"you're\",\n",
       " \"you've\",\n",
       " 'your',\n",
       " 'yours',\n",
       " 'yourself',\n",
       " 'yourselves'}"
      ]
     },
     "execution_count": 75,
     "metadata": {},
     "output_type": "execute_result"
    }
   ],
   "source": [
    "set(STOPWORDS)"
   ]
  },
  {
   "cell_type": "code",
   "execution_count": 77,
   "id": "78fd17b7-d704-41b1-9cad-5cc7d6cdb7aa",
   "metadata": {},
   "outputs": [
    {
     "data": {
      "text/plain": [
       "'we convert STOPWORDS to a set. Here\\'s the explanation:\\n\\n1. Efficiency of set for Membership Tests:\\n\\nSTOPWORDS (from the wordcloud library) is typically a list or other iterable containing common words like \"the,\" \"a,\" \"is,\" etc.\\nWhen the WordCloud object is generating the word cloud, it needs to check if each word in your text is a stop word.\\nIf STOPWORDS is a list, checking if a word is a stop word would involve iterating through the entire list for each word in your text. This is an O(n) operation, where n is the length of the list.\\nHowever, if STOPWORDS is a set, checking if a word is a stop word involves a hash table lookup, which is an O(1) operation on average.\\nTherefore, converting STOPWORDS to a set significantly speeds up the stop word removal process, especially when dealing with large amounts of text.\\n2. Removing Duplicates (Less Relevant Here):\\n\\nSets in Python automatically remove duplicate elements.\\nIn the case of STOPWORDS, it\\'s unlikely that there are duplicates, but converting to a set ensures that.\\nIn essence:\\n\\nConverting STOPWORDS to a set is primarily done for performance reasons. It makes the stop word removal process much faster.\\nUsing a set for membership testing is a common practice in Python when you need to check if an element is in a collection frequently.\\nCode Example:\\n\\nPython\\n\\nfrom wordcloud import STOPWORDS\\n\\n# Original STOPWORDS (likely a list or other iterable)\\nprint(type(STOPWORDS))\\n\\n# Convert to a set\\nstop_words_set = set(STOPWORDS)\\nprint(type(stop_words_set))\\nBy converting the list of stop words to a set, you are optimizing the code for faster execution.'"
      ]
     },
     "execution_count": 77,
     "metadata": {},
     "output_type": "execute_result"
    }
   ],
   "source": [
    "\"\"\"we convert STOPWORDS to a set. Here's the explanation:\n",
    "\n",
    "1. Efficiency of set for Membership Tests:\n",
    "\n",
    "STOPWORDS (from the wordcloud library) is typically a list or other iterable containing common words like \"the,\" \"a,\" \"is,\" etc.\n",
    "When the WordCloud object is generating the word cloud, it needs to check if each word in your text is a stop word.\n",
    "If STOPWORDS is a list, checking if a word is a stop word would involve iterating through the entire list for each word in your text. This is an O(n) operation, where n is the length of the list.\n",
    "However, if STOPWORDS is a set, checking if a word is a stop word involves a hash table lookup, which is an O(1) operation on average.\n",
    "Therefore, converting STOPWORDS to a set significantly speeds up the stop word removal process, especially when dealing with large amounts of text.\n",
    "2. Removing Duplicates (Less Relevant Here):\n",
    "\n",
    "Sets in Python automatically remove duplicate elements.\n",
    "In the case of STOPWORDS, it's unlikely that there are duplicates, but converting to a set ensures that.\n",
    "In essence:\n",
    "\n",
    "Converting STOPWORDS to a set is primarily done for performance reasons. It makes the stop word removal process much faster.\n",
    "Using a set for membership testing is a common practice in Python when you need to check if an element is in a collection frequently.\n",
    "Code Example:\n",
    "\n",
    "Python\n",
    "\n",
    "from wordcloud import STOPWORDS\n",
    "\n",
    "# Original STOPWORDS (likely a list or other iterable)\n",
    "print(type(STOPWORDS))\n",
    "\n",
    "# Convert to a set\n",
    "stop_words_set = set(STOPWORDS)\n",
    "print(type(stop_words_set))\n",
    "By converting the list of stop words to a set, you are optimizing the code for faster execution.\"\"\""
   ]
  },
  {
   "cell_type": "code",
   "execution_count": 79,
   "id": "9befac0f-9b7e-4b17-a6e4-f0d1896d844c",
   "metadata": {},
   "outputs": [],
   "source": [
    "### for wordcloud , we need to frame our 'comment_text' feature into string ..\n",
    "total_comments_positive = ' '.join(comments_positive['comment_text'])"
   ]
  },
  {
   "cell_type": "code",
   "execution_count": 81,
   "id": "03c3b53b-9ba8-4b95-acee-0646ce865e42",
   "metadata": {},
   "outputs": [],
   "source": [
    "wordcloud = WordCloud(stopwords = set(STOPWORDS)).generate(total_comments_positive)"
   ]
  },
  {
   "cell_type": "code",
   "execution_count": 89,
   "id": "a3321f09-c82a-4114-9a36-ab1c4274985f",
   "metadata": {},
   "outputs": [
    {
     "data": {
      "text/plain": [
       "(-0.5, 399.5, 199.5, -0.5)"
      ]
     },
     "execution_count": 89,
     "metadata": {},
     "output_type": "execute_result"
    },
    {
     "data": {
      "image/png": "[encoded data removed]",
      "text/plain": [
       "<Figure size 640x480 with 1 Axes>"
      ]
     },
     "metadata": {},
     "output_type": "display_data"
    }
   ],
   "source": [
    "plt.imshow(wordcloud)\n",
    "plt.axis('off')"
   ]
  },
  {
   "cell_type": "code",
   "execution_count": 91,
   "id": "c72d50e0-8f05-4a31-bc9a-0271b37d6fe1",
   "metadata": {},
   "outputs": [
    {
     "name": "stdout",
     "output_type": "stream",
     "text": [
      "Defaulting to user installation because normal site-packages is not writeable\n",
      "Collecting emoji==2.2.0\n",
      "  Downloading emoji-2.2.0.tar.gz (240 kB)\n",
      "  Preparing metadata (setup.py): started\n",
      "  Preparing metadata (setup.py): finished with status 'done'\n",
      "Building wheels for collected packages: emoji\n",
      "  Building wheel for emoji (setup.py): started\n",
      "  Building wheel for emoji (setup.py): finished with status 'done'\n",
      "  Created wheel for emoji: filename=emoji-2.2.0-py3-none-any.whl size=234934 sha256=c738e1beacf4a0e188500ef4e25e0eb30a382f1549e0a628038418a99bcf357e\n",
      "  Stored in directory: c:\\users\\alokita\\appdata\\local\\pip\\cache\\wheels\\e8\\33\\a1\\3977489dc0d0c30f1fb3e683bc24c077a630ba8afe4e31435e\n",
      "Successfully built emoji\n",
      "Installing collected packages: emoji\n",
      "Successfully installed emoji-2.2.0\n"
     ]
    }
   ],
   "source": [
    "!pip install emoji==2.2.0"
   ]
  },
  {
   "cell_type": "code",
   "execution_count": 93,
   "id": "92b9a05f-feed-4afa-ac5d-83580da92c2c",
   "metadata": {},
   "outputs": [],
   "source": [
    "import emoji"
   ]
  },
  {
   "cell_type": "code",
   "execution_count": 95,
   "id": "bda06649-bfac-4e73-bbff-1209b72e938a",
   "metadata": {},
   "outputs": [
    {
     "data": {
      "text/plain": [
       "0                    Logan Paul it's yo big day ‼️‼️‼️\n",
       "1    I've been following you from the start of your...\n",
       "2                   Say hi to Kong and maverick for me\n",
       "3                                  MY FAN . attendance\n",
       "4                                           trending 😉\n",
       "5                              #1 on trending AYYEEEEE\n",
       "Name: comment_text, dtype: object"
      ]
     },
     "execution_count": 95,
     "metadata": {},
     "output_type": "execute_result"
    }
   ],
   "source": [
    "comments['comment_text'].head(6)"
   ]
  },
  {
   "cell_type": "code",
   "execution_count": 97,
   "id": "5503be74-67c1-40f6-873c-8dd583dc2d8a",
   "metadata": {},
   "outputs": [
    {
     "data": {
      "text/plain": [
       "'2.2.0'"
      ]
     },
     "execution_count": 97,
     "metadata": {},
     "output_type": "execute_result"
    }
   ],
   "source": [
    "emoji.__version__"
   ]
  },
  {
   "cell_type": "code",
   "execution_count": 99,
   "id": "9ca6a9bc-db85-442c-b891-bb2b37332769",
   "metadata": {},
   "outputs": [
    {
     "data": {
      "text/plain": [
       "['😍', '❤', '❤', '❤', '😘']"
      ]
     },
     "execution_count": 99,
     "metadata": {},
     "output_type": "execute_result"
    }
   ],
   "source": [
    "[char for char in comment if char in emoji.EMOJI_DATA]"
   ]
  },
  {
   "cell_type": "code",
   "execution_count": 101,
   "id": "6e5ef9af-fe50-46be-8dab-d81e5b2a4d3b",
   "metadata": {},
   "outputs": [],
   "source": [
    "all_emojis_list = []\n",
    "\n",
    "for comment in comments['comment_text'].dropna(): ## in case u have missing values , call dropna()\n",
    "    for char in comment:\n",
    "        if char in emoji.EMOJI_DATA:\n",
    "            all_emojis_list.append(char)"
   ]
  },
  {
   "cell_type": "code",
   "execution_count": 103,
   "id": "785d6d76-088e-4c60-b7ee-cb945906ae93",
   "metadata": {},
   "outputs": [
    {
     "data": {
      "text/plain": [
       "['‼', '‼', '‼', '😉', '😭', '👍', '🏻', '❤', '😍', '💋']"
      ]
     },
     "execution_count": 103,
     "metadata": {},
     "output_type": "execute_result"
    }
   ],
   "source": [
    "all_emojis_list[0:10]"
   ]
  },
  {
   "cell_type": "code",
   "execution_count": 105,
   "id": "62059df1-f369-4db7-b33e-a8a50c2aba16",
   "metadata": {},
   "outputs": [],
   "source": [
    "from collections import Counter"
   ]
  },
  {
   "cell_type": "code",
   "execution_count": 107,
   "id": "e8ea5ed1-345c-4b38-bc99-0cd821abb9fc",
   "metadata": {},
   "outputs": [
    {
     "data": {
      "text/plain": [
       "[('😂', 36987),\n",
       " ('😍', 33453),\n",
       " ('❤', 31119),\n",
       " ('🔥', 8694),\n",
       " ('😭', 8398),\n",
       " ('👏', 5719),\n",
       " ('😘', 5545),\n",
       " ('👍', 5476),\n",
       " ('💖', 5359),\n",
       " ('💕', 5147)]"
      ]
     },
     "execution_count": 107,
     "metadata": {},
     "output_type": "execute_result"
    }
   ],
   "source": [
    "Counter(all_emojis_list).most_common(10)"
   ]
  },
  {
   "cell_type": "code",
   "execution_count": 109,
   "id": "a515226e-8490-41f1-b8c7-c42d472796c6",
   "metadata": {},
   "outputs": [
    {
     "data": {
      "text/plain": [
       "\"!pip install emoji==2.2.0: Installs the emoji library, specifically version 2.2.0. This library is used for detecting and working with emojis in text.\\nimport emoji: Imports the emoji module, making its functions available.\\ncomments['comment_text'].head(6): Displays the first 6 comments from the 'comment_text' column of your comments DataFrame. This allows you to see some sample comments and check for the presence of emojis.\\nemoji.__version__: Prints the version of the emoji library that you installed. This is useful for verifying that you have the correct version.\\n2. Incorrect Emoji list attempt:\\n\\nPython\\n\\n[char for char in comment if char in emoji.EMOJI_DATA], print(type(emoji_list)), emoji_list,\\n[char for char in comment if char in emoji.EMOJI_DATA]: This line attempts to create a list of emojis, but has two issues.\\nFirst, the variable comment is not defined in this scope. Therefore, this line will create an error.\\nSecond, the results of this list comprehension are not assigned to a variable.\\nprint(type(emoji_list)), emoji_list: Because emoji_list has not been defined, this will create an error.\\n3. Emoji Extraction:\\n\\nPython\\n\\nall_emojis_list = []\\nfor comment in comments['comment_text'].dropna():\\n    for char in comment:\\n        if char in emoji.EMOJI_DATA:\\n            all_emojis_list.append(char)\\nall_emojis_list[0:10]\\nall_emojis_list = []: Initializes an empty list called all_emojis_list to store the extracted emojis.\\nfor comment in comments['comment_text'].dropna()::\\nIterates through each comment in the 'comment_text' column of the comments DataFrame.\\n.dropna(): This is important because it skips any rows where the 'comment_text' is missing (NaN), preventing errors.\\nfor char in comment:: Iterates through each character in the current comment string.\\nif char in emoji.EMOJI_DATA::\\nChecks if the current character (char) is present in the emoji.EMOJI_DATA set.\\nemoji.EMOJI_DATA is a set containing all the known emojis.\\nall_emojis_list.append(char): If the character is an emoji, it's added to the all_emojis_list.\\nall_emojis_list[0:10]: Displays the first 10 emojis that were extracted. This allows you to see a sample of the emojis found.\\n4. Emoji Counting:\\n\\nPython\\n\\nfrom collections import Counter\\nCounter(all_emojis_list).most_common(10)\\nfrom collections import Counter: Imports the Counter class from the collections module. Counter is used for counting the occurrences of elements in a list.\\nCounter(all_emojis_list): Creates a Counter object from the all_emojis_list. This counts how many times each emoji appears in the list.\\n.most_common(10): Returns a list of the 10 most common emojis and their counts, in descending order. Each element in the list is a tuple (emoji, count).\\nIn Summary:\\n\\nThis code performs the following tasks:\\n\\nInstalls and imports the emoji library.\\nInspects the 'comment_text' column of the DataFrame.\\nIterates through the comments and extracts all the emojis.\\nCounts the occurrences of each emoji using Counter.\\nDisplays the 10 most common emojis and their counts.\""
      ]
     },
     "execution_count": 109,
     "metadata": {},
     "output_type": "execute_result"
    }
   ],
   "source": [
    "\"\"\"!pip install emoji==2.2.0: Installs the emoji library, specifically version 2.2.0. This library is used for detecting and working with emojis in text.\n",
    "import emoji: Imports the emoji module, making its functions available.\n",
    "comments['comment_text'].head(6): Displays the first 6 comments from the 'comment_text' column of your comments DataFrame. This allows you to see some sample comments and check for the presence of emojis.\n",
    "emoji.__version__: Prints the version of the emoji library that you installed. This is useful for verifying that you have the correct version.\n",
    "2. Incorrect Emoji list attempt:\n",
    "\n",
    "Python\n",
    "\n",
    "[char for char in comment if char in emoji.EMOJI_DATA], print(type(emoji_list)), emoji_list,\n",
    "[char for char in comment if char in emoji.EMOJI_DATA]: This line attempts to create a list of emojis, but has two issues.\n",
    "First, the variable comment is not defined in this scope. Therefore, this line will create an error.\n",
    "Second, the results of this list comprehension are not assigned to a variable.\n",
    "print(type(emoji_list)), emoji_list: Because emoji_list has not been defined, this will create an error.\n",
    "3. Emoji Extraction:\n",
    "\n",
    "Python\n",
    "\n",
    "all_emojis_list = []\n",
    "for comment in comments['comment_text'].dropna():\n",
    "    for char in comment:\n",
    "        if char in emoji.EMOJI_DATA:\n",
    "            all_emojis_list.append(char)\n",
    "all_emojis_list[0:10]\n",
    "all_emojis_list = []: Initializes an empty list called all_emojis_list to store the extracted emojis.\n",
    "for comment in comments['comment_text'].dropna()::\n",
    "Iterates through each comment in the 'comment_text' column of the comments DataFrame.\n",
    ".dropna(): This is important because it skips any rows where the 'comment_text' is missing (NaN), preventing errors.\n",
    "for char in comment:: Iterates through each character in the current comment string.\n",
    "if char in emoji.EMOJI_DATA::\n",
    "Checks if the current character (char) is present in the emoji.EMOJI_DATA set.\n",
    "emoji.EMOJI_DATA is a set containing all the known emojis.\n",
    "all_emojis_list.append(char): If the character is an emoji, it's added to the all_emojis_list.\n",
    "all_emojis_list[0:10]: Displays the first 10 emojis that were extracted. This allows you to see a sample of the emojis found.\n",
    "4. Emoji Counting:\n",
    "\n",
    "Python\n",
    "\n",
    "from collections import Counter\n",
    "Counter(all_emojis_list).most_common(10)\n",
    "from collections import Counter: Imports the Counter class from the collections module. Counter is used for counting the occurrences of elements in a list.\n",
    "Counter(all_emojis_list): Creates a Counter object from the all_emojis_list. This counts how many times each emoji appears in the list.\n",
    ".most_common(10): Returns a list of the 10 most common emojis and their counts, in descending order. Each element in the list is a tuple (emoji, count).\n",
    "In Summary:\n",
    "\n",
    "This code performs the following tasks:\n",
    "\n",
    "Installs and imports the emoji library.\n",
    "Inspects the 'comment_text' column of the DataFrame.\n",
    "Iterates through the comments and extracts all the emojis.\n",
    "Counts the occurrences of each emoji using Counter.\n",
    "Displays the 10 most common emojis and their counts.\"\"\""
   ]
  },
  {
   "cell_type": "code",
   "execution_count": null,
   "id": "03abb7f7-d622-4b6a-8770-2c01cdd797f0",
   "metadata": {},
   "outputs": [],
   "source": []
  }
 ],
 "metadata": {
  "kernelspec": {
   "display_name": "Python [conda env:base] *",
   "language": "python",
   "name": "conda-base-py"
  },
  "language_info": {
   "codemirror_mode": {
    "name": "ipython",
    "version": 3
   },
   "file_extension": ".py",
   "mimetype": "text/x-python",
   "name": "python",
   "nbconvert_exporter": "python",
   "pygments_lexer": "ipython3",
   "version": "3.12.7"
  }
 },
 "nbformat": 4,
 "nbformat_minor": 5
}
